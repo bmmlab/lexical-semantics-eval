{
 "cells": [
  {
   "cell_type": "code",
   "execution_count": 52,
   "id": "db015ab8-59dd-4b61-a361-e601f0dd4c88",
   "metadata": {},
   "outputs": [],
   "source": [
    "## Simple code to extract and save the word similarities based on the Binder Brain Ratings data\n",
    "## James Fodor 2022\n",
    "\n",
    "import numpy as np\n",
    "import itertools\n",
    "\n",
    "# Set numpy display properties needed for printing to file\n",
    "np.set_printoptions(precision=4, threshold=100000, linewidth=100000, suppress=True, floatmode='fixed')\n",
    "\n",
    "# Location of data files\n",
    "data_root = 'D:/Study and Projects/School Work/Year 25 - PhD 1/Data//' # root location of data"
   ]
  },
  {
   "cell_type": "code",
   "execution_count": null,
   "id": "b42eb088",
   "metadata": {},
   "outputs": [],
   "source": [
    "def cosine_sim(embed_1, embed_2):\n",
    "    \"\"\" numpy_array, numpy_array -> float\n",
    "    Returns the cosine similarity (-1 to 1) between two embeddings, inputted as vectors.\n",
    "    \"\"\"\n",
    "    if np.dot(embed_1,embed_2) == 0:\n",
    "        similarity = 0 # don't normalise if similarity is zero\n",
    "    else:\n",
    "        similarity = np.dot(embed_1,embed_2)/(np.linalg.norm(embed_1)*np.linalg.norm(embed_2))\n",
    "    return(similarity)"
   ]
  },
  {
   "cell_type": "code",
   "execution_count": 3,
   "id": "72b1073b-8f43-4314-9eca-8c0ef429d8f9",
   "metadata": {},
   "outputs": [],
   "source": [
    "# Load Binder ratings and save them to a dictionary\n",
    "folder_loc = data_root+'Word Embeddings/Binder Brain Ratings//'\n",
    "filename = folder_loc+'binder_ratings_simple.csv'\n",
    "with open(filename) as file:\n",
    "    lines = [line.rstrip('\\n') for line in file]\n",
    "    \n",
    "model_dict = {} # word dictionary for model\n",
    "for line in lines:\n",
    "    word_list = line.split()\n",
    "    word = word_list[0]\n",
    "    word = word.replace('ï»¿','') # remove weird initial symbol\n",
    "    embedding_list = [float(x) for x in word_list[1:-1]]\n",
    "    embedding_np = np.array(embedding_list)\n",
    "    model_dict[word] = embedding_np"
   ]
  },
  {
   "cell_type": "code",
   "execution_count": 47,
   "id": "7d9606ed-c1a4-4b14-995e-1f5584c6bf6a",
   "metadata": {},
   "outputs": [
    {
     "name": "stdout",
     "output_type": "stream",
     "text": [
      "534 words\n",
      "142311 word pairs\n"
     ]
    }
   ],
   "source": [
    "# Extract all pairs of words\n",
    "list_of_words = list(model_dict.keys())\n",
    "print(len(list_of_words),'words')\n",
    "word_pairs = list(itertools.combinations(list_of_words, 2))\n",
    "print(len(word_pairs),'word pairs')"
   ]
  },
  {
   "cell_type": "code",
   "execution_count": 48,
   "id": "386f1bdc-1ec0-4966-9ff3-f01caab24b13",
   "metadata": {},
   "outputs": [],
   "source": [
    "# Calculate and store all pairwise similarities\n",
    "word_sim_storage = []\n",
    "for word_pair in word_pairs:\n",
    "    word_embed_1 = model_dict[word_pair[0]]\n",
    "    word_embed_2 = model_dict[word_pair[1]]\n",
    "    similarity = cosine_sim(word_embed_1, word_embed_2)\n",
    "    word_sim_storage.append(similarity)"
   ]
  },
  {
   "cell_type": "code",
   "execution_count": 53,
   "id": "0e2f96e6-e142-4438-b722-49f6a2db77fb",
   "metadata": {},
   "outputs": [
    {
     "name": "stdout",
     "output_type": "stream",
     "text": [
      "file saved with 142311 words\n"
     ]
    }
   ],
   "source": [
    "# Save similarities to file\n",
    "save_path = folder_loc+'binder_similarities.txt'\n",
    "save_file = open(save_path, \"a\", encoding='utf-8')\n",
    "vocab_size = len(word_pairs)\n",
    "\n",
    "i=0\n",
    "for word_pair in word_pairs:\n",
    "    save_string = word_pair[0]+' '+word_pair[1]+' '+str(word_sim_storage[i])\n",
    "    save_file.writelines(save_string)\n",
    "    save_file.write('\\n')\n",
    "    i=i+1\n",
    "save_file.close()\n",
    "\n",
    "print('file saved with '+str(vocab_size)+' words')"
   ]
  }
 ],
 "metadata": {
  "kernelspec": {
   "display_name": "Python 3 (ipykernel)",
   "language": "python",
   "name": "python3"
  },
  "language_info": {
   "codemirror_mode": {
    "name": "ipython",
    "version": 3
   },
   "file_extension": ".py",
   "mimetype": "text/x-python",
   "name": "python",
   "nbconvert_exporter": "python",
   "pygments_lexer": "ipython3",
   "version": "3.8.12"
  }
 },
 "nbformat": 4,
 "nbformat_minor": 5
}
