{
 "cells": [
  {
   "cell_type": "code",
   "execution_count": null,
   "id": "ae61fdc7-5707-47e5-8fab-c6f2a61c82d1",
   "metadata": {
    "tags": []
   },
   "outputs": [],
   "source": [
    "## Simple code to extract and save the word embeddings for the ElMo model\n",
    "## James Fodor 2022\n",
    "## Python 3.7\n",
    "## See https://github.com/flairNLP/flair/blob/master/resources/docs/embeddings/ELMO_EMBEDDINGS.md\n",
    "\n",
    "import numpy as np\n",
    "from flair.data import Sentence\n",
    "from flair.embeddings import DocumentPoolEmbeddings, ELMoEmbeddings\n",
    "\n",
    "# Set numpy display properties needed for printing to file\n",
    "np.set_printoptions(precision=4, threshold=1000, linewidth=1000, suppress=True, floatmode='fixed')\n",
    "\n",
    "# Location of data files\n",
    "path_base = 'D:/Study and Projects/School Work/Year 25 - PhD 1/Data//' # root location of data"
   ]
  },
  {
   "cell_type": "code",
   "execution_count": null,
   "id": "835b8d65-ccd4-44b2-abc8-464bfa17d970",
   "metadata": {},
   "outputs": [],
   "source": [
    "# Define embedding object using downloaded elmo embeddings\n",
    "model_loc = 'Word Embeddings//'\n",
    "options_path = path_base + model_loc + 'Elmo Embeddings/elmo_false_wiki2019/options.json'\n",
    "weights_path = path_base + model_loc + 'Elmo Embeddings/elmo_false_wiki2019/model.hdf5'\n",
    "elmo_embeds = DocumentPoolEmbeddings([ELMoEmbeddings(options_file=options_path, weight_file=weights_path)])"
   ]
  },
  {
   "cell_type": "code",
   "execution_count": 9,
   "id": "403bc1aa-3e0b-408b-a441-d121309bb15a",
   "metadata": {},
   "outputs": [],
   "source": [
    "# Generate elmo embeddings for elmo vocab set\n",
    "save_file = open('elmo_mini.txt', \"a\", encoding='utf-8')\n",
    "vocab_path = '../combined_corpus_66k.txt'\n",
    "\n",
    "with open(vocab_path, 'rt', encoding='utf-8') as vocab_file:\n",
    "    for line in vocab_file:\n",
    "        word = line.strip()\n",
    "        word_token = Sentence(word)\n",
    "        elmo_embeds.embed(word_token)\n",
    "        word_embed = np.array(word_token.embedding)\n",
    "        embed_string = np.array_str(word_embed) # convert np_array to string\n",
    "        final_string = (word+' '+embed_string[2:-1]) # add word to front of embed string\n",
    "        save_file.writelines(final_string)\n",
    "        save_file.write('\\n')\n",
    "        \n",
    "save_file.close()"
   ]
  }
 ],
 "metadata": {
  "kernelspec": {
   "display_name": "Python 3 (ipykernel)",
   "language": "python",
   "name": "python3"
  },
  "language_info": {
   "codemirror_mode": {
    "name": "ipython",
    "version": 3
   },
   "file_extension": ".py",
   "mimetype": "text/x-python",
   "name": "python",
   "nbconvert_exporter": "python",
   "pygments_lexer": "ipython3",
   "version": "3.7.16"
  }
 },
 "nbformat": 4,
 "nbformat_minor": 5
}
