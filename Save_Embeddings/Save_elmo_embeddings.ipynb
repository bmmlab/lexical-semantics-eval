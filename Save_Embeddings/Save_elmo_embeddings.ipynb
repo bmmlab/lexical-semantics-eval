{
 "cells": [
  {
   "cell_type": "code",
   "execution_count": 2,
   "id": "ae61fdc7-5707-47e5-8fab-c6f2a61c82d1",
   "metadata": {
    "tags": []
   },
   "outputs": [
    {
     "ename": "ModuleNotFoundError",
     "evalue": "No module named 'flair'",
     "output_type": "error",
     "traceback": [
      "\u001b[1;31m---------------------------------------------------------------------------\u001b[0m",
      "\u001b[1;31mModuleNotFoundError\u001b[0m                       Traceback (most recent call last)",
      "Cell \u001b[1;32mIn[2], line 5\u001b[0m\n\u001b[0;32m      1\u001b[0m \u001b[39m## Simple code to extract and save the word embeddings for the ElMo model\u001b[39;00m\n\u001b[0;32m      2\u001b[0m \u001b[39m## James Fodor 2022\u001b[39;00m\n\u001b[0;32m      4\u001b[0m \u001b[39mimport\u001b[39;00m \u001b[39mnumpy\u001b[39;00m \u001b[39mas\u001b[39;00m \u001b[39mnp\u001b[39;00m\n\u001b[1;32m----> 5\u001b[0m \u001b[39mfrom\u001b[39;00m \u001b[39mflair\u001b[39;00m\u001b[39m.\u001b[39;00m\u001b[39mdata\u001b[39;00m \u001b[39mimport\u001b[39;00m Sentence\n\u001b[0;32m      6\u001b[0m \u001b[39mfrom\u001b[39;00m \u001b[39mflair\u001b[39;00m\u001b[39m.\u001b[39;00m\u001b[39membeddings\u001b[39;00m \u001b[39mimport\u001b[39;00m DocumentPoolEmbeddings, FlairEmbeddings, BertEmbeddings, ELMoEmbeddings\n\u001b[0;32m      8\u001b[0m \u001b[39m# Set numpy display properties needed for printing to file\u001b[39;00m\n",
      "\u001b[1;31mModuleNotFoundError\u001b[0m: No module named 'flair'"
     ]
    }
   ],
   "source": [
    "## Simple code to extract and save the word embeddings for the ElMo model\n",
    "## James Fodor 2022\n",
    "\n",
    "import numpy as np\n",
    "from flair.data import Sentence\n",
    "from flair.embeddings import DocumentPoolEmbeddings, ELMoEmbeddings\n",
    "\n",
    "# Set numpy display properties needed for printing to file\n",
    "np.set_printoptions(precision=4, threshold=100000, linewidth=100000, suppress=True, floatmode='fixed')\n",
    "\n",
    "# Location of data files\n",
    "data_root = 'D:/Study and Projects/School Work/Year 25 - PhD 1/Data//' # root location of data"
   ]
  },
  {
   "cell_type": "code",
   "execution_count": 2,
   "id": "83c40903-84e6-4194-b9da-4fd937d69f0e",
   "metadata": {
    "tags": []
   },
   "outputs": [],
   "source": [
    "def cosine_sim(embed_1, embed_2):\n",
    "    \"\"\" numpy_array, numpy_array -> float\n",
    "    Returns the cosine similarity (-1 to 1) between two embeddings, inputted as vectors.\n",
    "    \"\"\"\n",
    "    if np.dot(embed_1,embed_2) == 0:\n",
    "        similarity = 0 # don't normalise if similarity is zero\n",
    "    else:\n",
    "        similarity = np.dot(embed_1,embed_2)/(np.linalg.norm(embed_1)*np.linalg.norm(embed_2))\n",
    "    return(similarity)"
   ]
  },
  {
   "cell_type": "code",
   "execution_count": 4,
   "id": "835b8d65-ccd4-44b2-abc8-464bfa17d970",
   "metadata": {},
   "outputs": [],
   "source": [
    "# Define embedding object using downloaded elmo embeddings\n",
    "model_loc = 'Word Embeddings//'\n",
    "options_path = data_root + model_loc + 'Elmo Embeddings/elmo_false_wiki2019/options.json'\n",
    "weights_path = data_root + model_loc + 'Elmo Embeddings/elmo_false_wiki2019/model.hdf5'\n",
    "elmo_embeds = DocumentPoolEmbeddings([ELMoEmbeddings(options_file=options_path, weight_file=weights_path)])"
   ]
  },
  {
   "cell_type": "code",
   "execution_count": 9,
   "id": "403bc1aa-3e0b-408b-a441-d121309bb15a",
   "metadata": {},
   "outputs": [],
   "source": [
    "# Generate elmo embeddings for elmo vocab set\n",
    "save_file = open('elmo_mini.txt', \"a\", encoding='utf-8')\n",
    "vocab_path = '../combined_corpus_66k.txt'\n",
    "\n",
    "with open(vocab_path, 'rt', encoding='utf-8') as vocab_file:\n",
    "    for line in vocab_file:\n",
    "        word = line.strip()\n",
    "        word_token = Sentence(word)\n",
    "        elmo_embeds.embed(word_token)\n",
    "        word_embed = np.array(word_token.embedding)\n",
    "        embed_string = np.array_str(word_embed) # convert np_array to string\n",
    "        final_string = (word+' '+embed_string[2:-1]) # add word to front of embed string\n",
    "        save_file.writelines(final_string)\n",
    "        save_file.write('\\n')\n",
    "        \n",
    "save_file.close()"
   ]
  }
 ],
 "metadata": {
  "kernelspec": {
   "display_name": "Python 3 (ipykernel)",
   "language": "python",
   "name": "python3"
  },
  "language_info": {
   "codemirror_mode": {
    "name": "ipython",
    "version": 3
   },
   "file_extension": ".py",
   "mimetype": "text/x-python",
   "name": "python",
   "nbconvert_exporter": "python",
   "pygments_lexer": "ipython3",
   "version": "3.8.15"
  }
 },
 "nbformat": 4,
 "nbformat_minor": 5
}
