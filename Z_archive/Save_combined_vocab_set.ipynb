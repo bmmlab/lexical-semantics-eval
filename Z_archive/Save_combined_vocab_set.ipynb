{
 "cells": [
  {
   "cell_type": "code",
   "execution_count": 2,
   "id": "b32aa779-5025-4aa3-b4cc-5c6c31536bc8",
   "metadata": {},
   "outputs": [],
   "source": [
    "import pandas as pd\n",
    "import numpy as np\n",
    "import csv\n",
    "import math"
   ]
  },
  {
   "cell_type": "code",
   "execution_count": 17,
   "id": "58df489d-d109-47f4-a366-0737aa2a09b8",
   "metadata": {},
   "outputs": [],
   "source": [
    "# Function to generate a list of key vocabulary words to use for embedding extraction\n",
    "def save_minimal_corpus(save_path):\n",
    "    \n",
    "    # Load different corpuses\n",
    "    folder_loc = 'D:/Study and Projects/School Work/Year 25 - PhD 1/Data/Corpus Data/Key vocab'\n",
    "    sub_corpus_pd = pd.read_csv(folder_loc+'/subtitle_corpus_50k.txt', index_col=0, header=None, delim_whitespace=True, on_bad_lines='skip', encoding='utf-8')\n",
    "    sub_corpus_list = list(sub_corpus_pd.index.values)\n",
    "    gut_corpus_pd = pd.read_csv(folder_loc+'/gutenberg_corpus_37k.txt', index_col=0, header=None, delim_whitespace=True, on_bad_lines='skip', encoding='utf-8')\n",
    "    gut_corpus_list = list(gut_corpus_pd.index.values)\n",
    "    rw_corpus_pd = pd.read_csv(folder_loc+'/rare_words_4k.txt', index_col=0, header=None, delim_whitespace=True, on_bad_lines='skip', encoding='utf-8')\n",
    "    rw_corpus_list = list(rw_corpus_pd.index.values)\n",
    "    com_corpus_pd = pd.read_csv(folder_loc+'/combined_sim_dataset.txt', index_col=0, header=None, delim_whitespace=True, on_bad_lines='skip', encoding='utf-8')\n",
    "    com_corpus_list = list(com_corpus_pd.index.values)+list(np.array(com_corpus_pd)[:,0]) # get index and first column of pandas array\n",
    "    full_corpus_list = sub_corpus_list+gut_corpus_list+rw_corpus_list+com_corpus_list\n",
    "    \n",
    "    print(str(len(full_corpus_list))+' words')\n",
    "    corpus_set = list(set(full_corpus_list))\n",
    "    corpus_set.sort()\n",
    "    print(str(len(corpus_set))+' unique words')\n",
    "\n",
    "    # Check for problem words (non-strings)\n",
    "    i=0\n",
    "    for x in full_corpus_list:\n",
    "        if type(x)!=str:\n",
    "            print(i)\n",
    "        i=i+1\n",
    "\n",
    "    # Save combined corpus to file\n",
    "    save_file = open(save_path, \"a\", encoding='utf-8')\n",
    "    for word in corpus_set:\n",
    "        save_file.writelines(word)\n",
    "        save_file.write('\\n')            \n",
    "    save_file.close()\n",
    "    print('file saved')\n",
    "    "
   ]
  },
  {
   "cell_type": "code",
   "execution_count": 19,
   "id": "86d94588-3cbf-459c-aabc-bc0b0ce37c99",
   "metadata": {},
   "outputs": [
    {
     "name": "stdout",
     "output_type": "stream",
     "text": [
      "115054 words\n",
      "66205 unique words\n",
      "file saved\n"
     ]
    }
   ],
   "source": [
    "save_path = 'D:/Study and Projects/School Work/Year 25 - PhD 1/Data/Corpus Data/Key vocab/combined_corpus_6622k.txt'\n",
    "save_minimal_corpus(save_path)"
   ]
  },
  {
   "cell_type": "code",
   "execution_count": null,
   "id": "27a5dca0-bd68-433b-bfee-89524edfebd4",
   "metadata": {},
   "outputs": [],
   "source": [
    "# Save model vocab set to file; only needed if not separately provided for the model (i.e. vocab is the same file as the embeddings)\n",
    "def save_model_vocab(model, path):\n",
    "    save_path = 'D:/Study and Projects/School Work/Year 25 - PhD 1/Data/Word Embeddings/Gensim CBoW giga/2010_vocab_raw.txt'\n",
    "    save_file = open(save_path, \"a\", encoding='utf-8')\n",
    "    vocab_size = len(embedding_model.index.values)\n",
    "    \n",
    "    for word in embedding_model.index.values:\n",
    "        save_file.writelines(word)\n",
    "        save_file.write('\\n')            \n",
    "    save_file.close()\n",
    "\n",
    "    return('file saved with '+str(vocab_size)+' words')"
   ]
  }
 ],
 "metadata": {
  "kernelspec": {
   "display_name": "Python 3 (ipykernel)",
   "language": "python",
   "name": "python3"
  },
  "language_info": {
   "codemirror_mode": {
    "name": "ipython",
    "version": 3
   },
   "file_extension": ".py",
   "mimetype": "text/x-python",
   "name": "python",
   "nbconvert_exporter": "python",
   "pygments_lexer": "ipython3",
   "version": "3.8.12"
  }
 },
 "nbformat": 4,
 "nbformat_minor": 5
}
